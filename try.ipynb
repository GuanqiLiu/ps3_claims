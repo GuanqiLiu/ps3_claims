{
 "cells": [
  {
   "cell_type": "code",
   "execution_count": 29,
   "metadata": {},
   "outputs": [],
   "source": [
    "from ps3.data._sample_split import create_sample_split\n",
    "from ps3.data._load_transform import load_transform\n",
    "\n",
    "import matplotlib.pyplot as plt\n",
    "import numpy as np\n",
    "import pandas as pd\n",
    "import scipy.optimize as optimize\n",
    "import scipy.stats\n",
    "from dask_ml.preprocessing import Categorizer\n",
    "from sklearn.metrics import mean_absolute_error\n",
    "from sklearn.model_selection import ShuffleSplit\n",
    "from glum import GeneralizedLinearRegressor\n",
    "from glum import TweedieDistribution\n",
    "\n",
    "\n"
   ]
  },
  {
   "cell_type": "code",
   "execution_count": 14,
   "metadata": {},
   "outputs": [
    {
     "name": "stdout",
     "output_type": "stream",
     "text": [
      "   IDpol  ClaimNb  Exposure Area  VehPower  VehAge  DrivAge  BonusMalus  \\\n",
      "0      1        0      0.10    D         5       0        5          50   \n",
      "1      3        0      0.77    D         5       0        5          50   \n",
      "2      5        0      0.75    B         6       1        5          50   \n",
      "3     10        0      0.09    B         7       0        4          50   \n",
      "4     11        0      0.84    B         7       0        4          50   \n",
      "\n",
      "  VehBrand   VehGas  Density Region  ClaimAmount  ClaimAmountCut  \n",
      "0      B12  Regular     1217    R82          0.0             0.0  \n",
      "1      B12  Regular     1217    R82          0.0             0.0  \n",
      "2      B12   Diesel       54    R22          0.0             0.0  \n",
      "3      B12   Diesel       76    R72          0.0             0.0  \n",
      "4      B12   Diesel       76    R72          0.0             0.0  \n",
      "Index(['IDpol', 'ClaimNb', 'Exposure', 'Area', 'VehPower', 'VehAge', 'DrivAge',\n",
      "       'BonusMalus', 'VehBrand', 'VehGas', 'Density', 'Region', 'ClaimAmount',\n",
      "       'ClaimAmountCut'],\n",
      "      dtype='object')\n"
     ]
    }
   ],
   "source": [
    "data = load_transform()\n",
    "data.head()\n",
    "print(data.head())  # 查看数据前几行\n",
    "print(data.columns) "
   ]
  },
  {
   "cell_type": "code",
   "execution_count": 23,
   "metadata": {},
   "outputs": [
    {
     "name": "stdout",
     "output_type": "stream",
     "text": [
      "     IDpol  ClaimNb  Exposure Area  VehPower  VehAge  DrivAge  BonusMalus  \\\n",
      "0  4083105        0      0.36    D         7       1        5          50   \n",
      "1    79042        0      1.00    E         4       1        2          54   \n",
      "2  3100375        0      0.52    A         6       1        3          76   \n",
      "3  2266953        0      0.91    A         9       2        2          63   \n",
      "4  4027046        0      0.45    D         8       1        3          60   \n",
      "\n",
      "  VehBrand   VehGas  Density Region  ClaimAmount  ClaimAmountCut  \\\n",
      "0       B4   Diesel      507    R93          0.0             0.0   \n",
      "1       B2  Regular     3688    R82          0.0             0.0   \n",
      "2       B1  Regular       37    R24          0.0             0.0   \n",
      "3       B1  Regular       41    R73          0.0             0.0   \n",
      "4      B12   Diesel      568    R52          0.0             0.0   \n",
      "\n",
      "                                 hash sample  \n",
      "0  1113169414175027208547233381338902  train  \n",
      "1  1697534723952054286348862868737560  train  \n",
      "2  3028297293127415259275609724357614  train  \n",
      "3  3334468769969716492243957060634734  train  \n",
      "4  3441635299968969831290950222843121  train  \n",
      "count     678013\n",
      "unique         2\n",
      "top        train\n",
      "freq      542410\n",
      "Name: sample, dtype: object\n"
     ]
    }
   ],
   "source": [
    "df = create_sample_split(data,id_column='IDpol',training_frac=0.8)\n",
    "print(df.head())\n",
    "print(df['sample'].describe())"
   ]
  },
  {
   "cell_type": "code",
   "execution_count": 31,
   "metadata": {},
   "outputs": [
    {
     "data": {
      "image/png": "[encoded data removed]",
      "text/plain": [
       "<Figure size 640x480 with 1 Axes>"
      ]
     },
     "metadata": {},
     "output_type": "display_data"
    }
   ],
   "source": [
    "# plt.subplots(figsize=(10, 7))\n",
    "df_plot = (\n",
    "    df.loc[:, ['ClaimNb', 'Exposure']].groupby('ClaimNb').sum()\n",
    "    .assign(Frequency_Observed = lambda x: x.Exposure / df['Exposure'].sum())\n",
    ")\n",
    "mean = df['ClaimNb'].sum() / df['Exposure'].sum()\n",
    "\n",
    "x = range(5)\n",
    "plt.scatter(x, df_plot['Frequency_Observed'].values, color=\"blue\", alpha=0.85, s=60, label='observed')\n",
    "plt.scatter(x, scipy.stats.poisson.pmf(x, mean), color=\"orange\", alpha=0.55, s=60, label=\"poisson fit\")\n",
    "plt.xticks(x)\n",
    "plt.legend()\n",
    "plt.title(\"Frequency\")"
   ]
  },
  {
   "cell_type": "code",
   "execution_count": 32,
   "metadata": {},
   "outputs": [],
   "source": [
    "z = df['ClaimNb'].values\n",
    "weight = df['Exposure'].values\n",
    "y = z / weight # claims frequency\n",
    "\n",
    "ss = ShuffleSplit(n_splits=1, test_size=0.1, random_state=42)\n",
    "train, test = next(ss.split(y))\n",
    "\n",
    "categoricals = [\"VehBrand\", \"VehGas\", \"Region\", \"Area\", \"DrivAge\", \"VehAge\", \"VehPower\"]\n",
    "predictors = categoricals + [\"BonusMalus\", \"Density\"]\n",
    "glm_categorizer = Categorizer(columns=categoricals)\n",
    "\n",
    "X_train_p = glm_categorizer.fit_transform(df[predictors].iloc[train])\n",
    "X_test_p = glm_categorizer.transform(df[predictors].iloc[test])\n",
    "y_train_p, y_test_p = y[train], y[test]\n",
    "w_train_p, w_test_p = weight[train], weight[test]\n",
    "z_train_p, z_test_p = z[train], z[test]"
   ]
  },
  {
   "cell_type": "code",
   "execution_count": 33,
   "metadata": {},
   "outputs": [
    {
     "data": {
      "text/html": [
       "<div>\n",
       "<style scoped>\n",
       "    .dataframe tbody tr th:only-of-type {\n",
       "        vertical-align: middle;\n",
       "    }\n",
       "\n",
       "    .dataframe tbody tr th {\n",
       "        vertical-align: top;\n",
       "    }\n",
       "\n",
       "    .dataframe thead th {\n",
       "        text-align: right;\n",
       "    }\n",
       "</style>\n",
       "<table border=\"1\" class=\"dataframe\">\n",
       "  <thead>\n",
       "    <tr style=\"text-align: right;\">\n",
       "      <th></th>\n",
       "      <th>intercept</th>\n",
       "      <th>VehBrand[B1]</th>\n",
       "      <th>VehBrand[B10]</th>\n",
       "      <th>VehBrand[B11]</th>\n",
       "      <th>VehBrand[B12]</th>\n",
       "      <th>VehBrand[B13]</th>\n",
       "      <th>VehBrand[B14]</th>\n",
       "      <th>VehBrand[B2]</th>\n",
       "      <th>VehBrand[B3]</th>\n",
       "      <th>VehBrand[B4]</th>\n",
       "      <th>...</th>\n",
       "      <th>VehAge[1]</th>\n",
       "      <th>VehAge[2]</th>\n",
       "      <th>VehPower[4]</th>\n",
       "      <th>VehPower[5]</th>\n",
       "      <th>VehPower[6]</th>\n",
       "      <th>VehPower[7]</th>\n",
       "      <th>VehPower[8]</th>\n",
       "      <th>VehPower[9]</th>\n",
       "      <th>BonusMalus</th>\n",
       "      <th>Density</th>\n",
       "    </tr>\n",
       "  </thead>\n",
       "  <tbody>\n",
       "    <tr>\n",
       "      <th>coefficient</th>\n",
       "      <td>-4.216207</td>\n",
       "      <td>-0.028873</td>\n",
       "      <td>-0.027495</td>\n",
       "      <td>0.161945</td>\n",
       "      <td>-0.277168</td>\n",
       "      <td>0.0</td>\n",
       "      <td>-0.127876</td>\n",
       "      <td>-0.018912</td>\n",
       "      <td>0.027401</td>\n",
       "      <td>0.000459</td>\n",
       "      <td>...</td>\n",
       "      <td>0.024235</td>\n",
       "      <td>-0.157875</td>\n",
       "      <td>-0.075953</td>\n",
       "      <td>-0.019719</td>\n",
       "      <td>0.0</td>\n",
       "      <td>-0.003121</td>\n",
       "      <td>0.025261</td>\n",
       "      <td>0.152618</td>\n",
       "      <td>0.02665</td>\n",
       "      <td>0.000003</td>\n",
       "    </tr>\n",
       "  </tbody>\n",
       "</table>\n",
       "<p>1 rows × 60 columns</p>\n",
       "</div>"
      ],
      "text/plain": [
       "             intercept  VehBrand[B1]  VehBrand[B10]  VehBrand[B11]  \\\n",
       "coefficient  -4.216207     -0.028873      -0.027495       0.161945   \n",
       "\n",
       "             VehBrand[B12]  VehBrand[B13]  VehBrand[B14]  VehBrand[B2]  \\\n",
       "coefficient      -0.277168            0.0      -0.127876     -0.018912   \n",
       "\n",
       "             VehBrand[B3]  VehBrand[B4]  ...  VehAge[1]  VehAge[2]  \\\n",
       "coefficient      0.027401      0.000459  ...   0.024235  -0.157875   \n",
       "\n",
       "             VehPower[4]  VehPower[5]  VehPower[6]  VehPower[7]  VehPower[8]  \\\n",
       "coefficient    -0.075953    -0.019719          0.0    -0.003121     0.025261   \n",
       "\n",
       "             VehPower[9]  BonusMalus   Density  \n",
       "coefficient     0.152618     0.02665  0.000003  \n",
       "\n",
       "[1 rows x 60 columns]"
      ]
     },
     "execution_count": 33,
     "metadata": {},
     "output_type": "execute_result"
    }
   ],
   "source": [
    "f_glm1 = GeneralizedLinearRegressor(family='poisson', alpha_search=True, l1_ratio=1, fit_intercept=True)\n",
    "\n",
    "f_glm1.fit(\n",
    "    X_train_p,\n",
    "    y_train_p,\n",
    "    sample_weight=w_train_p\n",
    ");\n",
    "\n",
    "pd.DataFrame({'coefficient': np.concatenate(([f_glm1.intercept_], f_glm1.coef_))},\n",
    "             index=['intercept'] + f_glm1.feature_names_).T"
   ]
  },
  {
   "cell_type": "markdown",
   "metadata": {},
   "source": [
    "4. Combined GLM - Tweedie distribution"
   ]
  },
  {
   "cell_type": "code",
   "execution_count": 34,
   "metadata": {},
   "outputs": [],
   "source": [
    "weight = df['Exposure'].values\n",
    "df[\"PurePremium\"] = df[\"ClaimAmountCut\"] / df[\"Exposure\"]\n",
    "y = df[\"PurePremium\"]\n",
    "\n",
    "X_train_t = glm_categorizer.fit_transform(df[predictors].iloc[train])\n",
    "X_test_t = glm_categorizer.transform(df[predictors].iloc[test])\n",
    "y_train_t, y_test_t = y.iloc[train], y.iloc[test]\n",
    "w_train_t, w_test_t = weight[train], weight[test]"
   ]
  },
  {
   "cell_type": "code",
   "execution_count": null,
   "metadata": {},
   "outputs": [],
   "source": [
    "TweedieDist = TweedieDistribution(1.5)\n",
    "t_glm1 = GeneralizedLinearRegressor(family=TweedieDist, alpha_search=True, l1_ratio=1, fit_intercept=True)\n",
    "t_glm1.fit(X_train_t, y_train_t, sample_weight=w_train_t)\n",
    "\n",
    "\n",
    "pd.DataFrame({'coefficient': np.concatenate(([t_glm1.intercept_], t_glm1.coef_))},\n",
    "             index=['intercept'] + t_glm1.feature_names_).T"
   ]
  },
  {
   "cell_type": "code",
   "execution_count": 35,
   "metadata": {},
   "outputs": [
    {
     "ename": "NameError",
     "evalue": "name 'TweedieDist' is not defined",
     "output_type": "error",
     "traceback": [
      "\u001b[0;31m---------------------------------------------------------------------------\u001b[0m",
      "\u001b[0;31mNameError\u001b[0m                                 Traceback (most recent call last)",
      "Cell \u001b[0;32mIn[35], line 2\u001b[0m\n\u001b[1;32m      1\u001b[0m \u001b[38;5;28mprint\u001b[39m(\u001b[38;5;124m'\u001b[39m\u001b[38;5;124mtraining loss s_glm1: \u001b[39m\u001b[38;5;132;01m{}\u001b[39;00m\u001b[38;5;124m'\u001b[39m\u001b[38;5;241m.\u001b[39mformat(\n\u001b[0;32m----> 2\u001b[0m     \u001b[43mTweedieDist\u001b[49m\u001b[38;5;241m.\u001b[39mdeviance(y_train_t, t_glm1\u001b[38;5;241m.\u001b[39mpredict(X_train_t), sample_weight\u001b[38;5;241m=\u001b[39mw_train_t)\u001b[38;5;241m/\u001b[39mnp\u001b[38;5;241m.\u001b[39msum(w_train_t)))\n\u001b[1;32m      4\u001b[0m \u001b[38;5;28mprint\u001b[39m(\u001b[38;5;124m'\u001b[39m\u001b[38;5;124mtesting loss s_glm1:  \u001b[39m\u001b[38;5;132;01m{}\u001b[39;00m\u001b[38;5;124m'\u001b[39m\u001b[38;5;241m.\u001b[39mformat(\n\u001b[1;32m      5\u001b[0m     TweedieDist\u001b[38;5;241m.\u001b[39mdeviance(y_test_t, t_glm1\u001b[38;5;241m.\u001b[39mpredict(X_test_t), sample_weight\u001b[38;5;241m=\u001b[39mw_test_t)\u001b[38;5;241m/\u001b[39mnp\u001b[38;5;241m.\u001b[39msum(w_test_t)))\n",
      "\u001b[0;31mNameError\u001b[0m: name 'TweedieDist' is not defined"
     ]
    }
   ],
   "source": [
    "print('training loss s_glm1: {}'.format(\n",
    "    TweedieDist.deviance(y_train_t, t_glm1.predict(X_train_t), sample_weight=w_train_t)/np.sum(w_train_t)))\n",
    "\n",
    "print('testing loss s_glm1:  {}'.format(\n",
    "    TweedieDist.deviance(y_test_t, t_glm1.predict(X_test_t), sample_weight=w_test_t)/np.sum(w_test_t)))"
   ]
  },
  {
   "cell_type": "code",
   "execution_count": null,
   "metadata": {},
   "outputs": [],
   "source": [
    "#Put together freq * sev together\n",
    "print(\"Total claim amount on train set, observed = {}, predicted = {}\".\n",
    "     format(df['ClaimAmountCut'].values[train].sum(),\n",
    "            np.sum(df['Exposure'].values[train] * t_glm1.predict(X_train_p)))\n",
    "     )\n",
    "\n",
    "print(\"Total claim amount on test set, observed = {}, predicted = {}\".\n",
    "     format(df['ClaimAmountCut'].values[test].sum(),\n",
    "            np.sum(df['Exposure'].values[test] * t_glm1.predict(X_test_p)))\n",
    "     )"
   ]
  }
 ],
 "metadata": {
  "kernelspec": {
   "display_name": "ps3",
   "language": "python",
   "name": "python3"
  },
  "language_info": {
   "codemirror_mode": {
    "name": "ipython",
    "version": 3
   },
   "file_extension": ".py",
   "mimetype": "text/x-python",
   "name": "python",
   "nbconvert_exporter": "python",
   "pygments_lexer": "ipython3",
   "version": "3.12.7"
  }
 },
 "nbformat": 4,
 "nbformat_minor": 2
}
